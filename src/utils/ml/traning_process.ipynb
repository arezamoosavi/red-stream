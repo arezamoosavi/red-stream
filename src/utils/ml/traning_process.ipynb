{
 "cells": [
  {
   "cell_type": "code",
   "execution_count": 21,
   "id": "international-wesley",
   "metadata": {},
   "outputs": [
    {
     "name": "stdout",
     "output_type": "stream",
     "text": [
      "Linear Regression - Project Exercise - Solutions.ipynb\r\n",
      "Linear Regression with Python.ipynb\r\n",
      "Position_Salaries.csv\r\n",
      "USA_Housing.csv\r\n",
      "Untitled.ipynb\r\n",
      "__init__.py\r\n",
      "bitcoin_price_1week_test.csv\r\n",
      "bitcoin_price_1week_train.csv\r\n",
      "bitcoin_test.csv\r\n",
      "bitcoin_train.csv\r\n",
      "celery_app\r\n",
      "celerybeat-schedule\r\n",
      "celerybeat.pid\r\n",
      "utils\r\n"
     ]
    }
   ],
   "source": [
    "!ls"
   ]
  },
  {
   "cell_type": "code",
   "execution_count": 22,
   "id": "contemporary-final",
   "metadata": {},
   "outputs": [],
   "source": [
    "import numpy as np\n",
    "import pandas as pd"
   ]
  },
  {
   "cell_type": "code",
   "execution_count": 23,
   "id": "accredited-activation",
   "metadata": {},
   "outputs": [
    {
     "data": {
      "text/html": [
       "<div>\n",
       "<style scoped>\n",
       "    .dataframe tbody tr th:only-of-type {\n",
       "        vertical-align: middle;\n",
       "    }\n",
       "\n",
       "    .dataframe tbody tr th {\n",
       "        vertical-align: top;\n",
       "    }\n",
       "\n",
       "    .dataframe thead th {\n",
       "        text-align: right;\n",
       "    }\n",
       "</style>\n",
       "<table border=\"1\" class=\"dataframe\">\n",
       "  <thead>\n",
       "    <tr style=\"text-align: right;\">\n",
       "      <th></th>\n",
       "      <th>Open</th>\n",
       "      <th>High</th>\n",
       "      <th>Low</th>\n",
       "      <th>Close</th>\n",
       "    </tr>\n",
       "  </thead>\n",
       "  <tbody>\n",
       "    <tr>\n",
       "      <th>0</th>\n",
       "      <td>2763.24</td>\n",
       "      <td>2889.62</td>\n",
       "      <td>2720.61</td>\n",
       "      <td>2875.34</td>\n",
       "    </tr>\n",
       "    <tr>\n",
       "      <th>1</th>\n",
       "      <td>2724.39</td>\n",
       "      <td>2758.53</td>\n",
       "      <td>2644.85</td>\n",
       "      <td>2757.18</td>\n",
       "    </tr>\n",
       "    <tr>\n",
       "      <th>2</th>\n",
       "      <td>2807.02</td>\n",
       "      <td>2808.76</td>\n",
       "      <td>2692.80</td>\n",
       "      <td>2726.45</td>\n",
       "    </tr>\n",
       "    <tr>\n",
       "      <th>3</th>\n",
       "      <td>2679.73</td>\n",
       "      <td>2897.45</td>\n",
       "      <td>2679.73</td>\n",
       "      <td>2809.01</td>\n",
       "    </tr>\n",
       "    <tr>\n",
       "      <th>4</th>\n",
       "      <td>2538.71</td>\n",
       "      <td>2693.32</td>\n",
       "      <td>2529.34</td>\n",
       "      <td>2671.78</td>\n",
       "    </tr>\n",
       "  </tbody>\n",
       "</table>\n",
       "</div>"
      ],
      "text/plain": [
       "      Open     High      Low    Close\n",
       "0  2763.24  2889.62  2720.61  2875.34\n",
       "1  2724.39  2758.53  2644.85  2757.18\n",
       "2  2807.02  2808.76  2692.80  2726.45\n",
       "3  2679.73  2897.45  2679.73  2809.01\n",
       "4  2538.71  2693.32  2529.34  2671.78"
      ]
     },
     "execution_count": 23,
     "metadata": {},
     "output_type": "execute_result"
    }
   ],
   "source": [
    "# Importing the dataset\n",
    "tr_data = pd.read_csv('bitcoin_train.csv')\n",
    "tr_data.head()"
   ]
  },
  {
   "cell_type": "code",
   "execution_count": 24,
   "id": "bigger-notice",
   "metadata": {},
   "outputs": [
    {
     "data": {
      "text/html": [
       "<div>\n",
       "<style scoped>\n",
       "    .dataframe tbody tr th:only-of-type {\n",
       "        vertical-align: middle;\n",
       "    }\n",
       "\n",
       "    .dataframe tbody tr th {\n",
       "        vertical-align: top;\n",
       "    }\n",
       "\n",
       "    .dataframe thead th {\n",
       "        text-align: right;\n",
       "    }\n",
       "</style>\n",
       "<table border=\"1\" class=\"dataframe\">\n",
       "  <thead>\n",
       "    <tr style=\"text-align: right;\">\n",
       "      <th></th>\n",
       "      <th>Open</th>\n",
       "      <th>High</th>\n",
       "      <th>Low</th>\n",
       "      <th>Close</th>\n",
       "    </tr>\n",
       "  </thead>\n",
       "  <tbody>\n",
       "    <tr>\n",
       "      <th>0</th>\n",
       "      <td>327.16</td>\n",
       "      <td>331.77</td>\n",
       "      <td>325.08</td>\n",
       "      <td>330.49</td>\n",
       "    </tr>\n",
       "    <tr>\n",
       "      <th>1</th>\n",
       "      <td>325.57</td>\n",
       "      <td>334.00</td>\n",
       "      <td>325.48</td>\n",
       "      <td>327.55</td>\n",
       "    </tr>\n",
       "    <tr>\n",
       "      <th>2</th>\n",
       "      <td>326.07</td>\n",
       "      <td>329.05</td>\n",
       "      <td>320.63</td>\n",
       "      <td>325.89</td>\n",
       "    </tr>\n",
       "    <tr>\n",
       "      <th>3</th>\n",
       "      <td>338.65</td>\n",
       "      <td>340.53</td>\n",
       "      <td>321.06</td>\n",
       "      <td>325.75</td>\n",
       "    </tr>\n",
       "    <tr>\n",
       "      <th>4</th>\n",
       "      <td>345.01</td>\n",
       "      <td>348.05</td>\n",
       "      <td>337.14</td>\n",
       "      <td>338.32</td>\n",
       "    </tr>\n",
       "  </tbody>\n",
       "</table>\n",
       "</div>"
      ],
      "text/plain": [
       "     Open    High     Low   Close\n",
       "0  327.16  331.77  325.08  330.49\n",
       "1  325.57  334.00  325.48  327.55\n",
       "2  326.07  329.05  320.63  325.89\n",
       "3  338.65  340.53  321.06  325.75\n",
       "4  345.01  348.05  337.14  338.32"
      ]
     },
     "execution_count": 24,
     "metadata": {},
     "output_type": "execute_result"
    }
   ],
   "source": [
    "ts_data = pd.read_csv('bitcoin_test.csv')\n",
    "ts_data.head()"
   ]
  },
  {
   "cell_type": "code",
   "execution_count": 26,
   "id": "enabling-specification",
   "metadata": {},
   "outputs": [
    {
     "data": {
      "text/plain": [
       "(556, 4)"
      ]
     },
     "execution_count": 26,
     "metadata": {},
     "output_type": "execute_result"
    }
   ],
   "source": [
    "ts_data.shape"
   ]
  },
  {
   "cell_type": "code",
   "execution_count": 28,
   "id": "respiratory-gates",
   "metadata": {},
   "outputs": [],
   "source": [
    "def preprocess_dataframe(df, out_col):\n",
    "\n",
    "    df[\"close_1\"] = df[out_col].shift(-1)\n",
    "    df[\"close_10\"] = df[out_col].shift(-10)\n",
    "\n",
    "    df.drop(columns=[out_col], axis=1, inplace=True)\n",
    "    df.dropna(inplace=True)"
   ]
  },
  {
   "cell_type": "code",
   "execution_count": 31,
   "id": "healthy-saturday",
   "metadata": {},
   "outputs": [],
   "source": [
    "preprocess_dataframe(tr_data, \"Close\")\n",
    "preprocess_dataframe(ts_data, \"Close\")"
   ]
  },
  {
   "cell_type": "code",
   "execution_count": 33,
   "id": "worse-aberdeen",
   "metadata": {},
   "outputs": [
    {
     "data": {
      "text/html": [
       "<div>\n",
       "<style scoped>\n",
       "    .dataframe tbody tr th:only-of-type {\n",
       "        vertical-align: middle;\n",
       "    }\n",
       "\n",
       "    .dataframe tbody tr th {\n",
       "        vertical-align: top;\n",
       "    }\n",
       "\n",
       "    .dataframe thead th {\n",
       "        text-align: right;\n",
       "    }\n",
       "</style>\n",
       "<table border=\"1\" class=\"dataframe\">\n",
       "  <thead>\n",
       "    <tr style=\"text-align: right;\">\n",
       "      <th></th>\n",
       "      <th>Open</th>\n",
       "      <th>High</th>\n",
       "      <th>Low</th>\n",
       "      <th>close_1</th>\n",
       "      <th>close_10</th>\n",
       "    </tr>\n",
       "  </thead>\n",
       "  <tbody>\n",
       "    <tr>\n",
       "      <th>0</th>\n",
       "      <td>327.16</td>\n",
       "      <td>331.77</td>\n",
       "      <td>325.08</td>\n",
       "      <td>327.55</td>\n",
       "      <td>347.27</td>\n",
       "    </tr>\n",
       "    <tr>\n",
       "      <th>1</th>\n",
       "      <td>325.57</td>\n",
       "      <td>334.00</td>\n",
       "      <td>325.48</td>\n",
       "      <td>325.89</td>\n",
       "      <td>358.35</td>\n",
       "    </tr>\n",
       "    <tr>\n",
       "      <th>2</th>\n",
       "      <td>326.07</td>\n",
       "      <td>329.05</td>\n",
       "      <td>320.63</td>\n",
       "      <td>325.75</td>\n",
       "      <td>358.42</td>\n",
       "    </tr>\n",
       "    <tr>\n",
       "      <th>3</th>\n",
       "      <td>338.65</td>\n",
       "      <td>340.53</td>\n",
       "      <td>321.06</td>\n",
       "      <td>338.32</td>\n",
       "      <td>383.16</td>\n",
       "    </tr>\n",
       "    <tr>\n",
       "      <th>4</th>\n",
       "      <td>345.01</td>\n",
       "      <td>348.05</td>\n",
       "      <td>337.14</td>\n",
       "      <td>345.31</td>\n",
       "      <td>386.48</td>\n",
       "    </tr>\n",
       "  </tbody>\n",
       "</table>\n",
       "</div>"
      ],
      "text/plain": [
       "     Open    High     Low  close_1  close_10\n",
       "0  327.16  331.77  325.08   327.55    347.27\n",
       "1  325.57  334.00  325.48   325.89    358.35\n",
       "2  326.07  329.05  320.63   325.75    358.42\n",
       "3  338.65  340.53  321.06   338.32    383.16\n",
       "4  345.01  348.05  337.14   345.31    386.48"
      ]
     },
     "execution_count": 33,
     "metadata": {},
     "output_type": "execute_result"
    }
   ],
   "source": [
    "ts_data.head()"
   ]
  },
  {
   "cell_type": "code",
   "execution_count": 35,
   "id": "magnetic-swiss",
   "metadata": {},
   "outputs": [],
   "source": [
    "Xtrain = tr_data[['Open', 'High', 'Low']]\n",
    "Ytrain = tr_data[[\"close_1\", \"close_10\"]]\n",
    "Xtest = ts_data[['Open', 'High', 'Low']]\n",
    "Ytest = ts_data[[\"close_1\", \"close_10\"]]"
   ]
  },
  {
   "cell_type": "code",
   "execution_count": 44,
   "id": "recreational-motivation",
   "metadata": {},
   "outputs": [
    {
     "name": "stdout",
     "output_type": "stream",
     "text": [
      "MultiOutputRegressor(estimator=GradientBoostingRegressor())\n"
     ]
    }
   ],
   "source": [
    "from sklearn.ensemble import GradientBoostingRegressor, BaggingRegressor, RandomForestRegressor\n",
    "from sklearn.multioutput import MultiOutputRegressor\n",
    "\n",
    "gbr = GradientBoostingRegressor()\n",
    "# gbr = BaggingRegressor()\n",
    "# gbr = RandomForestRegressor()\n",
    "model = MultiOutputRegressor(estimator=gbr)\n",
    "print(model)"
   ]
  },
  {
   "cell_type": "code",
   "execution_count": 45,
   "id": "together-poison",
   "metadata": {},
   "outputs": [
    {
     "name": "stdout",
     "output_type": "stream",
     "text": [
      "Training score: 0.9965228583349892 total time: 0.23864483833312988\n"
     ]
    }
   ],
   "source": [
    "from time import time\n",
    "start = time()\n",
    "model.fit(Xtrain, Ytrain)\n",
    "end = time()\n",
    "\n",
    "score = model.score(Xtrain, Ytrain)\n",
    "print(\"Training score: {} total time: {}\".format(score, end - start))"
   ]
  },
  {
   "cell_type": "code",
   "execution_count": 48,
   "id": "removed-secondary",
   "metadata": {},
   "outputs": [
    {
     "name": "stdout",
     "output_type": "stream",
     "text": [
      "y MSE:17330.0821\n"
     ]
    }
   ],
   "source": [
    "from sklearn.metrics import mean_squared_error\n",
    "Ypred = model.predict(Xtest)\n",
    "print(\"y MSE:%.4f\" % mean_squared_error(Ytest.iloc[:,1], Ypred[:,1]))"
   ]
  },
  {
   "cell_type": "code",
   "execution_count": 38,
   "id": "martial-valuable",
   "metadata": {},
   "outputs": [],
   "source": [
    "from sklearn.metrics import r2_score\n",
    "from scipy.stats import spearmanr, pearsonr\n",
    "from sklearn import metrics"
   ]
  },
  {
   "cell_type": "code",
   "execution_count": 49,
   "id": "classified-pilot",
   "metadata": {},
   "outputs": [
    {
     "name": "stdout",
     "output_type": "stream",
     "text": [
      "Test data R-2 score: 0.744\n",
      "Test data Spearman correlation: 0.916\n",
      "Test data Pearson correlation: 0.887\n",
      "Mean Absolute Error: 105.18183765253083\n",
      "Mean Squared Error: 17330.082128723545\n",
      "Root Mean Squared Error: 131.64376980595605\n"
     ]
    }
   ],
   "source": [
    "out_test = np.array(Ytest.iloc[:,1])\n",
    "out_model = Ypred[:,1]\n",
    "res_data = {}\n",
    "\n",
    "test_score = r2_score(out_test, out_model)\n",
    "spearman = spearmanr(out_test, out_model)\n",
    "pearson = pearsonr(out_test, out_model)\n",
    "print(f'Test data R-2 score: {test_score:>5.3}')\n",
    "print(f'Test data Spearman correlation: {spearman[0]:.3}')\n",
    "print(f'Test data Pearson correlation: {pearson[0]:.3}')\n",
    "\n",
    "res_data[\"r2_score\"] = test_score\n",
    "res_data[\"spearman_correlation\"] = spearman[0]\n",
    "res_data[\"pearson_correlation\"] = pearson[0]\n",
    "\n",
    "MAE_VAL = metrics.mean_absolute_error(out_test, out_model)\n",
    "MSE_VAL = metrics.mean_squared_error(out_test, out_model)\n",
    "RMSE_VAL = np.sqrt(metrics.mean_squared_error(out_test, out_model))\n",
    "\n",
    "res_data[\"MeanAbsoluteError\"] = MAE_VAL\n",
    "res_data[\"MeanSquaredError\"] = MSE_VAL\n",
    "res_data[\"RootMeanSquaredError\"] = RMSE_VAL\n",
    "\n",
    "print('Mean Absolute Error:', MAE_VAL)\n",
    "print('Mean Squared Error:', MSE_VAL)\n",
    "print('Root Mean Squared Error:', RMSE_VAL)"
   ]
  },
  {
   "cell_type": "code",
   "execution_count": 91,
   "id": "vital-february",
   "metadata": {},
   "outputs": [],
   "source": [
    "from joblib import dump, load\n",
    "# dump(model, 'mimo_gbr.joblib')"
   ]
  },
  {
   "cell_type": "code",
   "execution_count": 92,
   "id": "precise-pizza",
   "metadata": {},
   "outputs": [],
   "source": [
    "loaded_mdl = load('mimo_gbr.joblib')"
   ]
  },
  {
   "cell_type": "code",
   "execution_count": 60,
   "id": "intensive-disabled",
   "metadata": {},
   "outputs": [
    {
     "name": "stdout",
     "output_type": "stream",
     "text": [
      "[327.16, 331.77, 325.08]\n",
      "[327.55, 347.27]\n"
     ]
    }
   ],
   "source": [
    "print(list(Xtest.iloc[0, :]))\n",
    "print(list(Ytest.iloc[0, :]))"
   ]
  },
  {
   "cell_type": "code",
   "execution_count": 94,
   "id": "opening-biotechnology",
   "metadata": {},
   "outputs": [],
   "source": [
    "result = loaded_mdl.predict([[327.16, 331.77, 325.08]])"
   ]
  },
  {
   "cell_type": "code",
   "execution_count": 97,
   "id": "serial-rates",
   "metadata": {},
   "outputs": [
    {
     "data": {
      "text/plain": [
       "337.44994435100983"
      ]
     },
     "execution_count": 97,
     "metadata": {},
     "output_type": "execute_result"
    }
   ],
   "source": [
    "result[0][1]"
   ]
  },
  {
   "cell_type": "markdown",
   "id": "flush-telescope",
   "metadata": {},
   "source": [
    "## checking generator"
   ]
  },
  {
   "cell_type": "code",
   "execution_count": 99,
   "id": "convinced-configuration",
   "metadata": {},
   "outputs": [],
   "source": [
    "import csv\n",
    "\n",
    "def read_csv_data(path, columns):\n",
    "    with open(path) as file:\n",
    "        reader = csv.DictReader(file)\n",
    "        for row in reader:\n",
    "            data = dict(row)\n",
    "            yield {k.lower(): float(data[k]) for k in columns}"
   ]
  },
  {
   "cell_type": "code",
   "execution_count": 100,
   "id": "about-sample",
   "metadata": {},
   "outputs": [],
   "source": [
    "data_cols = [\"Open\",\"High\",\"Low\",\"Close\"]\n",
    "data_path = \"bitcoin_test.csv\"\n",
    "gen_d = read_csv_data(data_path, data_cols)"
   ]
  },
  {
   "cell_type": "code",
   "execution_count": 103,
   "id": "martial-korean",
   "metadata": {},
   "outputs": [
    {
     "data": {
      "text/plain": [
       "{'open': 326.07, 'high': 329.05, 'low': 320.63, 'close': 325.89}"
      ]
     },
     "execution_count": 103,
     "metadata": {},
     "output_type": "execute_result"
    }
   ],
   "source": [
    "next(gen_d, None)"
   ]
  },
  {
   "cell_type": "code",
   "execution_count": 54,
   "id": "radical-dominant",
   "metadata": {},
   "outputs": [
    {
     "data": {
      "text/plain": [
       "<generator object read_csv_data at 0x7f1467b06750>"
      ]
     },
     "execution_count": 54,
     "metadata": {},
     "output_type": "execute_result"
    }
   ],
   "source": [
    "gen_d"
   ]
  }
 ],
 "metadata": {
  "kernelspec": {
   "display_name": "Python 3",
   "language": "python",
   "name": "python3"
  },
  "language_info": {
   "codemirror_mode": {
    "name": "ipython",
    "version": 3
   },
   "file_extension": ".py",
   "mimetype": "text/x-python",
   "name": "python",
   "nbconvert_exporter": "python",
   "pygments_lexer": "ipython3",
   "version": "3.7.9"
  }
 },
 "nbformat": 4,
 "nbformat_minor": 5
}